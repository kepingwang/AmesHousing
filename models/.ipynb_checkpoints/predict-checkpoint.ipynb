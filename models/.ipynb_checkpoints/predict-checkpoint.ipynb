{
 "cells": [
  {
   "cell_type": "code",
   "execution_count": 1,
   "metadata": {
    "collapsed": false
   },
   "outputs": [],
   "source": [
    "%matplotlib inline\n",
    "import numpy as np\n",
    "import matplotlib.pyplot as plt\n",
    "import pandas as pd\n",
    "import tensorflow as tf\n",
    "%load_ext autoreload\n",
    "%autoreload 2"
   ]
  },
  {
   "cell_type": "markdown",
   "metadata": {},
   "source": [
    "### Get the data and pre-process the data"
   ]
  },
  {
   "cell_type": "code",
   "execution_count": 2,
   "metadata": {
    "collapsed": false
   },
   "outputs": [
    {
     "data": {
      "text/html": [
       "<div>\n",
       "<table border=\"1\" class=\"dataframe\">\n",
       "  <thead>\n",
       "    <tr style=\"text-align: right;\">\n",
       "      <th></th>\n",
       "      <th>LotFrontage</th>\n",
       "      <th>LotArea</th>\n",
       "      <th>Street</th>\n",
       "      <th>Utilities</th>\n",
       "      <th>OverallQual</th>\n",
       "      <th>OverallCond</th>\n",
       "      <th>YearBuilt</th>\n",
       "      <th>YearRemodAdd</th>\n",
       "      <th>MasVnrArea</th>\n",
       "      <th>ExterQual</th>\n",
       "      <th>...</th>\n",
       "      <th>SaleType_New</th>\n",
       "      <th>SaleType_Oth</th>\n",
       "      <th>SaleType_VWD</th>\n",
       "      <th>SaleType_WD</th>\n",
       "      <th>SaleCondition_Abnorml</th>\n",
       "      <th>SaleCondition_AdjLand</th>\n",
       "      <th>SaleCondition_Alloca</th>\n",
       "      <th>SaleCondition_Family</th>\n",
       "      <th>SaleCondition_Normal</th>\n",
       "      <th>SaleCondition_Partial</th>\n",
       "    </tr>\n",
       "  </thead>\n",
       "  <tbody>\n",
       "    <tr>\n",
       "      <th>0</th>\n",
       "      <td>4.955827</td>\n",
       "      <td>10.366309</td>\n",
       "      <td>1</td>\n",
       "      <td>1</td>\n",
       "      <td>6</td>\n",
       "      <td>5</td>\n",
       "      <td>1960</td>\n",
       "      <td>1960</td>\n",
       "      <td>4.727388</td>\n",
       "      <td>3</td>\n",
       "      <td>...</td>\n",
       "      <td>0</td>\n",
       "      <td>0</td>\n",
       "      <td>0</td>\n",
       "      <td>1</td>\n",
       "      <td>0</td>\n",
       "      <td>0</td>\n",
       "      <td>0</td>\n",
       "      <td>0</td>\n",
       "      <td>1</td>\n",
       "      <td>0</td>\n",
       "    </tr>\n",
       "    <tr>\n",
       "      <th>1</th>\n",
       "      <td>4.394449</td>\n",
       "      <td>9.360741</td>\n",
       "      <td>1</td>\n",
       "      <td>1</td>\n",
       "      <td>5</td>\n",
       "      <td>6</td>\n",
       "      <td>1961</td>\n",
       "      <td>1961</td>\n",
       "      <td>0.000000</td>\n",
       "      <td>3</td>\n",
       "      <td>...</td>\n",
       "      <td>0</td>\n",
       "      <td>0</td>\n",
       "      <td>0</td>\n",
       "      <td>1</td>\n",
       "      <td>0</td>\n",
       "      <td>0</td>\n",
       "      <td>0</td>\n",
       "      <td>0</td>\n",
       "      <td>1</td>\n",
       "      <td>0</td>\n",
       "    </tr>\n",
       "    <tr>\n",
       "      <th>2</th>\n",
       "      <td>4.406719</td>\n",
       "      <td>9.565775</td>\n",
       "      <td>1</td>\n",
       "      <td>1</td>\n",
       "      <td>6</td>\n",
       "      <td>6</td>\n",
       "      <td>1958</td>\n",
       "      <td>1958</td>\n",
       "      <td>4.691348</td>\n",
       "      <td>3</td>\n",
       "      <td>...</td>\n",
       "      <td>0</td>\n",
       "      <td>0</td>\n",
       "      <td>0</td>\n",
       "      <td>1</td>\n",
       "      <td>0</td>\n",
       "      <td>0</td>\n",
       "      <td>0</td>\n",
       "      <td>0</td>\n",
       "      <td>1</td>\n",
       "      <td>0</td>\n",
       "    </tr>\n",
       "    <tr>\n",
       "      <th>3</th>\n",
       "      <td>4.543295</td>\n",
       "      <td>9.320181</td>\n",
       "      <td>1</td>\n",
       "      <td>1</td>\n",
       "      <td>7</td>\n",
       "      <td>5</td>\n",
       "      <td>1968</td>\n",
       "      <td>1968</td>\n",
       "      <td>0.000000</td>\n",
       "      <td>4</td>\n",
       "      <td>...</td>\n",
       "      <td>0</td>\n",
       "      <td>0</td>\n",
       "      <td>0</td>\n",
       "      <td>1</td>\n",
       "      <td>0</td>\n",
       "      <td>0</td>\n",
       "      <td>0</td>\n",
       "      <td>0</td>\n",
       "      <td>1</td>\n",
       "      <td>0</td>\n",
       "    </tr>\n",
       "    <tr>\n",
       "      <th>4</th>\n",
       "      <td>4.317488</td>\n",
       "      <td>9.534668</td>\n",
       "      <td>1</td>\n",
       "      <td>1</td>\n",
       "      <td>5</td>\n",
       "      <td>5</td>\n",
       "      <td>1997</td>\n",
       "      <td>1998</td>\n",
       "      <td>0.000000</td>\n",
       "      <td>3</td>\n",
       "      <td>...</td>\n",
       "      <td>0</td>\n",
       "      <td>0</td>\n",
       "      <td>0</td>\n",
       "      <td>1</td>\n",
       "      <td>0</td>\n",
       "      <td>0</td>\n",
       "      <td>0</td>\n",
       "      <td>0</td>\n",
       "      <td>1</td>\n",
       "      <td>0</td>\n",
       "    </tr>\n",
       "  </tbody>\n",
       "</table>\n",
       "<p>5 rows × 272 columns</p>\n",
       "</div>"
      ],
      "text/plain": [
       "   LotFrontage    LotArea  Street  Utilities  OverallQual  OverallCond  \\\n",
       "0     4.955827  10.366309       1          1            6            5   \n",
       "1     4.394449   9.360741       1          1            5            6   \n",
       "2     4.406719   9.565775       1          1            6            6   \n",
       "3     4.543295   9.320181       1          1            7            5   \n",
       "4     4.317488   9.534668       1          1            5            5   \n",
       "\n",
       "   YearBuilt  YearRemodAdd  MasVnrArea  ExterQual          ...            \\\n",
       "0       1960          1960    4.727388          3          ...             \n",
       "1       1961          1961    0.000000          3          ...             \n",
       "2       1958          1958    4.691348          3          ...             \n",
       "3       1968          1968    0.000000          4          ...             \n",
       "4       1997          1998    0.000000          3          ...             \n",
       "\n",
       "   SaleType_New  SaleType_Oth  SaleType_VWD  SaleType_WD   \\\n",
       "0             0             0             0             1   \n",
       "1             0             0             0             1   \n",
       "2             0             0             0             1   \n",
       "3             0             0             0             1   \n",
       "4             0             0             0             1   \n",
       "\n",
       "   SaleCondition_Abnorml  SaleCondition_AdjLand  SaleCondition_Alloca  \\\n",
       "0                      0                      0                     0   \n",
       "1                      0                      0                     0   \n",
       "2                      0                      0                     0   \n",
       "3                      0                      0                     0   \n",
       "4                      0                      0                     0   \n",
       "\n",
       "   SaleCondition_Family  SaleCondition_Normal  SaleCondition_Partial  \n",
       "0                     0                     1                      0  \n",
       "1                     0                     1                      0  \n",
       "2                     0                     1                      0  \n",
       "3                     0                     1                      0  \n",
       "4                     0                     1                      0  \n",
       "\n",
       "[5 rows x 272 columns]"
      ]
     },
     "execution_count": 2,
     "metadata": {},
     "output_type": "execute_result"
    }
   ],
   "source": [
    "df = pd.read_csv('../data/data_ready.csv')\n",
    "df.head()"
   ]
  },
  {
   "cell_type": "code",
   "execution_count": 3,
   "metadata": {
    "collapsed": false
   },
   "outputs": [
    {
     "name": "stdout",
     "output_type": "stream",
     "text": [
      "X shape: (2930, 271)\n",
      "y shape: (2930,)\n"
     ]
    }
   ],
   "source": [
    "y = df.SalePrice.values\n",
    "X = df.drop('SalePrice', axis=1).values\n",
    "print(\"X shape: {}\".format(X.shape))\n",
    "print(\"y shape: {}\".format(y.shape))"
   ]
  },
  {
   "cell_type": "code",
   "execution_count": 4,
   "metadata": {
    "collapsed": false
   },
   "outputs": [],
   "source": [
    "# Shuffle the data\n",
    "p = np.random.permutation(X.shape[0])\n",
    "X = X[p]\n",
    "y = y[p]"
   ]
  },
  {
   "cell_type": "code",
   "execution_count": 5,
   "metadata": {
    "collapsed": false
   },
   "outputs": [],
   "source": [
    "# Get training, validation, and test data\n",
    "N = X.shape[0] # 2930 observations in total\n",
    "num_trn = 2200\n",
    "num_val = 230\n",
    "num_tst = N - num_trn - num_val # 500\n",
    "trn_mask = range(0,num_trn)\n",
    "val_mask = range(num_trn,num_trn+num_val)\n",
    "tst_mask = range(num_trn+num_val,N)\n",
    "X_trn = X[trn_mask]\n",
    "y_trn = y[trn_mask]\n",
    "X_val = X[val_mask]\n",
    "y_val = y[val_mask]\n",
    "X_tst = X[tst_mask]\n",
    "y_tst = y[tst_mask]"
   ]
  },
  {
   "cell_type": "code",
   "execution_count": 6,
   "metadata": {
    "collapsed": false
   },
   "outputs": [],
   "source": [
    "# Standardize Features\n",
    "mean = X_trn.mean()\n",
    "std  = X_trn.std()\n",
    "X_trn = (X_trn - mean) / std\n",
    "X_val = (X_val - mean) / std\n",
    "X_tst = (X_tst - mean) / std"
   ]
  },
  {
   "cell_type": "markdown",
   "metadata": {},
   "source": [
    "### Simple Prediction with Sklearn"
   ]
  },
  {
   "cell_type": "code",
   "execution_count": 39,
   "metadata": {
    "collapsed": false
   },
   "outputs": [],
   "source": [
    "from sklearn import linear_model\n",
    "model = linear_model.LinearRegression()\n",
    "model.fit(X_trn, y_trn)\n",
    "y_val_pred_linear = model.predict(X_val)\n",
    "y_tst_pred_linear = model.predict(X_tst)"
   ]
  },
  {
   "cell_type": "markdown",
   "metadata": {},
   "source": [
    "### Simple SVR with Sklearn"
   ]
  },
  {
   "cell_type": "code",
   "execution_count": 40,
   "metadata": {
    "collapsed": true
   },
   "outputs": [],
   "source": [
    "from sklearn.svm import SVR\n",
    "svr = SVR(kernel='rbf', C=5e4) # large C means small margin\n",
    "svr.fit(X_trn, y_trn)\n",
    "y_val_pred_svr = svr.predict(X_val)\n",
    "y_tst_pred_svr = svr.predict(X_tst)"
   ]
  },
  {
   "cell_type": "markdown",
   "metadata": {},
   "source": [
    "### Accuracy Evaluation"
   ]
  },
  {
   "cell_type": "code",
   "execution_count": 10,
   "metadata": {
    "collapsed": false
   },
   "outputs": [],
   "source": [
    "def evaluate(y, y_pred):\n",
    "  rmse = np.sqrt(((y - y_pred)**2).mean())\n",
    "  print(\"RMSE: {}\".format(rmse))\n",
    "  sse = ((y - y_pred)**2).sum()\n",
    "  sst = ((y - y.mean())**2).sum()\n",
    "  r2 = 1.0 - sse / sst\n",
    "  print(\"R2: {}\".format(r2))"
   ]
  },
  {
   "cell_type": "code",
   "execution_count": 41,
   "metadata": {
    "collapsed": false
   },
   "outputs": [
    {
     "name": "stdout",
     "output_type": "stream",
     "text": [
      "RMSE: 3595187.8018426555\n",
      "R2: -90687636748230.16\n",
      "RMSE: 0.12322332669413108\n",
      "R2: 0.8934653752924656\n"
     ]
    }
   ],
   "source": [
    "evaluate(y_val, y_val_pred_linear)\n",
    "evaluate(y_val, y_val_pred_svr)"
   ]
  },
  {
   "cell_type": "markdown",
   "metadata": {},
   "source": [
    "## TensorFlow"
   ]
  },
  {
   "cell_type": "code",
   "execution_count": 12,
   "metadata": {
    "collapsed": true
   },
   "outputs": [],
   "source": [
    "model_number = 0"
   ]
  },
  {
   "cell_type": "code",
   "execution_count": 59,
   "metadata": {
    "collapsed": false
   },
   "outputs": [],
   "source": [
    "import scripts.hedonic as hd\n",
    "\n",
    "# hyperparameters\n",
    "w_scale = 1e-3\n",
    "reg = 0\n",
    "init_lr = 1e-3\n",
    "decay_steps = 100\n",
    "decay_rate = 0.94\n",
    "keep_prob_value = 1.0\n",
    "\n",
    "# build the graph\n",
    "g = tf.Graph()\n",
    "with g.as_default():\n",
    "  is_training = tf.placeholder(tf.bool, name=\"is_training\")\n",
    "  X = tf.placeholder(tf.float32, [None,271], name=\"X\")\n",
    "  y = tf.placeholder(tf.float32, [None], name=\"y\")\n",
    "  \n",
    "  global_step = tf.Variable(0, dtype=tf.int64, trainable=False)\n",
    "  learning_rate = tf.train.exponential_decay(init_lr,\n",
    "      global_step, decay_steps, decay_rate)\n",
    "  \n",
    "  # the core model: calculate scores from X\n",
    "  out = X\n",
    "#   with tf.name_scope(\"FC1\"):\n",
    "#     out = hd.affine(out, [271, 128], w_scale)\n",
    "#     out = hd.batch_norm(out, is_training)\n",
    "#     out = tf.nn.tanh(out)\n",
    "#     out = hd.dropout(out, is_training, keep_prob_value)\n",
    "  with tf.name_scope(\"FCOut\"):\n",
    "    out = hd.affine(out, [271, 1], w_scale) \n",
    "  scores = out\n",
    "  \n",
    "  loss = hd.loss(scores, y, reg)\n",
    "  rmse = hd.rmse(scores, y)\n",
    "  tf.summary.scalar(\"RMSE\", rmse)\n",
    "  r2 = hd.r2(scores, y)\n",
    "  tf.summary.scalar(\"R2\", r2)\n",
    "  \n",
    "  train_op = hd.train_op(loss, learning_rate, global_step)\n",
    "  \n",
    "  init_op = tf.global_variables_initializer()\n",
    "  saver = tf.train.Saver()\n",
    "  merged = tf.summary.merge_all()"
   ]
  },
  {
   "cell_type": "code",
   "execution_count": 60,
   "metadata": {
    "collapsed": false
   },
   "outputs": [],
   "source": [
    "# Prepare data\n",
    "def trn_dict(batch_size):\n",
    "  num_train = X_trn.shape[0]\n",
    "  mask = np.random.choice(num_train, batch_size)\n",
    "  return {\n",
    "    is_training: True,\n",
    "    X: X_trn[mask],\n",
    "    y: y_trn[mask]\n",
    "  }\n",
    "\n",
    "def small_trn_dict(batch_size):\n",
    "  # ignore batch size\n",
    "  return {\n",
    "    is_training: True,\n",
    "    X: X_trn[:100],\n",
    "    y: y_trn[:100]\n",
    "  }\n",
    "\n",
    "def val_dict():\n",
    "  return {\n",
    "    is_training: False,\n",
    "    X: X_val,\n",
    "    y: y_val\n",
    "  }"
   ]
  },
  {
   "cell_type": "code",
   "execution_count": 61,
   "metadata": {
    "collapsed": false
   },
   "outputs": [
    {
     "name": "stdout",
     "output_type": "stream",
     "text": [
      "model14\n",
      "(500) training loss: 0.160371\n",
      "rmse_trn: 0.4005, rmse_val: 0.3906\n",
      "(1000) training loss: 0.144892\n",
      "rmse_trn: 0.3806, rmse_val: 0.3806\n",
      "(1500) training loss: 0.134752\n",
      "rmse_trn: 0.3671, rmse_val: 0.3806\n",
      "(2000) training loss: 0.150328\n",
      "rmse_trn: 0.3877, rmse_val: 0.3805\n",
      "(2500) training loss: 0.147956\n",
      "rmse_trn: 0.3847, rmse_val: 0.3805\n",
      "(3000) training loss: 0.171427\n",
      "rmse_trn: 0.4140, rmse_val: 0.3805\n",
      "(3500) training loss: 0.176987\n",
      "rmse_trn: 0.4207, rmse_val: 0.3809\n",
      "(4000) training loss: 0.159729\n",
      "rmse_trn: 0.3997, rmse_val: 0.3806\n",
      "(4500) training loss: 0.152059\n",
      "rmse_trn: 0.3899, rmse_val: 0.3807\n",
      "(5000) training loss: 0.130689\n",
      "rmse_trn: 0.3615, rmse_val: 0.3806\n",
      "(5500) training loss: 0.131090\n",
      "rmse_trn: 0.3621, rmse_val: 0.3805\n",
      "(6000) training loss: 0.114629\n",
      "rmse_trn: 0.3386, rmse_val: 0.3805\n",
      "(6500) training loss: 0.210705\n",
      "rmse_trn: 0.4590, rmse_val: 0.3805\n",
      "(7000) training loss: 0.174122\n",
      "rmse_trn: 0.4173, rmse_val: 0.3807\n",
      "(7500) training loss: 0.198806\n",
      "rmse_trn: 0.4459, rmse_val: 0.3805\n",
      "(8000) training loss: 0.149935\n",
      "rmse_trn: 0.3872, rmse_val: 0.3806\n",
      "(8500) training loss: 0.241385\n",
      "rmse_trn: 0.4913, rmse_val: 0.3805\n",
      "(9000) training loss: 0.221153\n",
      "rmse_trn: 0.4703, rmse_val: 0.3805\n",
      "(9500) training loss: 0.132244\n",
      "rmse_trn: 0.3637, rmse_val: 0.3805\n",
      "(10000) training loss: 0.150831\n",
      "rmse_trn: 0.3884, rmse_val: 0.3805\n",
      "(10500) training loss: 0.208234\n",
      "rmse_trn: 0.4563, rmse_val: 0.3806\n",
      "(11000) training loss: 0.149531\n",
      "rmse_trn: 0.3867, rmse_val: 0.3806\n",
      "(11500) training loss: 0.214359\n",
      "rmse_trn: 0.4630, rmse_val: 0.3806\n",
      "(12000) training loss: 0.249741\n",
      "rmse_trn: 0.4997, rmse_val: 0.3806\n",
      "(12500) training loss: 0.180197\n",
      "rmse_trn: 0.4245, rmse_val: 0.3806\n",
      "(13000) training loss: 0.157610\n",
      "rmse_trn: 0.3970, rmse_val: 0.3806\n",
      "(13500) training loss: 0.144621\n",
      "rmse_trn: 0.3803, rmse_val: 0.3806\n",
      "(14000) training loss: 0.152785\n",
      "rmse_trn: 0.3909, rmse_val: 0.3806\n",
      "(14500) training loss: 0.209726\n",
      "rmse_trn: 0.4580, rmse_val: 0.3806\n"
     ]
    },
    {
     "ename": "KeyboardInterrupt",
     "evalue": "",
     "output_type": "error",
     "traceback": [
      "\u001b[0;31m---------------------------------------------------------------------------\u001b[0m",
      "\u001b[0;31mKeyboardInterrupt\u001b[0m                         Traceback (most recent call last)",
      "\u001b[0;32m<ipython-input-61-2a4d6a94d3f3>\u001b[0m in \u001b[0;36m<module>\u001b[0;34m()\u001b[0m\n\u001b[1;32m     14\u001b[0m     \u001b[0m_\u001b[0m\u001b[0;34m,\u001b[0m \u001b[0mloss_trn\u001b[0m\u001b[0;34m,\u001b[0m \u001b[0mrmse_trn\u001b[0m\u001b[0;34m,\u001b[0m \u001b[0msummary\u001b[0m \u001b[0;34m=\u001b[0m \u001b[0msess\u001b[0m\u001b[0;34m.\u001b[0m\u001b[0mrun\u001b[0m\u001b[0;34m(\u001b[0m\u001b[0;34m[\u001b[0m\u001b[0mtrain_op\u001b[0m\u001b[0;34m,\u001b[0m \u001b[0mloss\u001b[0m\u001b[0;34m,\u001b[0m \u001b[0mrmse\u001b[0m\u001b[0;34m,\u001b[0m \u001b[0mmerged\u001b[0m\u001b[0;34m]\u001b[0m\u001b[0;34m,\u001b[0m \u001b[0mfeed_dict\u001b[0m\u001b[0;34m=\u001b[0m\u001b[0mtrn_dict\u001b[0m\u001b[0;34m(\u001b[0m\u001b[0mbatch_size\u001b[0m\u001b[0;34m)\u001b[0m\u001b[0;34m)\u001b[0m\u001b[0;34m\u001b[0m\u001b[0m\n\u001b[1;32m     15\u001b[0m     \u001b[0mwriter_trn\u001b[0m\u001b[0;34m.\u001b[0m\u001b[0madd_summary\u001b[0m\u001b[0;34m(\u001b[0m\u001b[0msummary\u001b[0m\u001b[0;34m,\u001b[0m \u001b[0mglobal_step\u001b[0m\u001b[0;34m.\u001b[0m\u001b[0meval\u001b[0m\u001b[0;34m(\u001b[0m\u001b[0;34m)\u001b[0m\u001b[0;34m)\u001b[0m\u001b[0;34m\u001b[0m\u001b[0m\n\u001b[0;32m---> 16\u001b[0;31m     \u001b[0mrmse_val\u001b[0m\u001b[0;34m,\u001b[0m \u001b[0msummary\u001b[0m \u001b[0;34m=\u001b[0m \u001b[0msess\u001b[0m\u001b[0;34m.\u001b[0m\u001b[0mrun\u001b[0m\u001b[0;34m(\u001b[0m\u001b[0;34m[\u001b[0m\u001b[0mrmse\u001b[0m\u001b[0;34m,\u001b[0m \u001b[0mmerged\u001b[0m\u001b[0;34m]\u001b[0m\u001b[0;34m,\u001b[0m \u001b[0mfeed_dict\u001b[0m\u001b[0;34m=\u001b[0m\u001b[0mval_dict\u001b[0m\u001b[0;34m(\u001b[0m\u001b[0;34m)\u001b[0m\u001b[0;34m)\u001b[0m\u001b[0;34m\u001b[0m\u001b[0m\n\u001b[0m\u001b[1;32m     17\u001b[0m     \u001b[0mwriter_val\u001b[0m\u001b[0;34m.\u001b[0m\u001b[0madd_summary\u001b[0m\u001b[0;34m(\u001b[0m\u001b[0msummary\u001b[0m\u001b[0;34m,\u001b[0m \u001b[0mglobal_step\u001b[0m\u001b[0;34m.\u001b[0m\u001b[0meval\u001b[0m\u001b[0;34m(\u001b[0m\u001b[0;34m)\u001b[0m\u001b[0;34m)\u001b[0m\u001b[0;34m\u001b[0m\u001b[0m\n\u001b[1;32m     18\u001b[0m     \u001b[0;32mif\u001b[0m \u001b[0mi\u001b[0m \u001b[0;34m!=\u001b[0m \u001b[0;36m0\u001b[0m \u001b[0;32mand\u001b[0m \u001b[0mi\u001b[0m \u001b[0;34m%\u001b[0m \u001b[0;36m500\u001b[0m \u001b[0;34m==\u001b[0m \u001b[0;36m0\u001b[0m\u001b[0;34m:\u001b[0m\u001b[0;34m\u001b[0m\u001b[0m\n",
      "\u001b[0;32m/Users/keping/anaconda3/lib/python3.6/site-packages/tensorflow/python/client/session.py\u001b[0m in \u001b[0;36mrun\u001b[0;34m(self, fetches, feed_dict, options, run_metadata)\u001b[0m\n\u001b[1;32m    765\u001b[0m     \u001b[0;32mtry\u001b[0m\u001b[0;34m:\u001b[0m\u001b[0;34m\u001b[0m\u001b[0m\n\u001b[1;32m    766\u001b[0m       result = self._run(None, fetches, feed_dict, options_ptr,\n\u001b[0;32m--> 767\u001b[0;31m                          run_metadata_ptr)\n\u001b[0m\u001b[1;32m    768\u001b[0m       \u001b[0;32mif\u001b[0m \u001b[0mrun_metadata\u001b[0m\u001b[0;34m:\u001b[0m\u001b[0;34m\u001b[0m\u001b[0m\n\u001b[1;32m    769\u001b[0m         \u001b[0mproto_data\u001b[0m \u001b[0;34m=\u001b[0m \u001b[0mtf_session\u001b[0m\u001b[0;34m.\u001b[0m\u001b[0mTF_GetBuffer\u001b[0m\u001b[0;34m(\u001b[0m\u001b[0mrun_metadata_ptr\u001b[0m\u001b[0;34m)\u001b[0m\u001b[0;34m\u001b[0m\u001b[0m\n",
      "\u001b[0;32m/Users/keping/anaconda3/lib/python3.6/site-packages/tensorflow/python/client/session.py\u001b[0m in \u001b[0;36m_run\u001b[0;34m(self, handle, fetches, feed_dict, options, run_metadata)\u001b[0m\n\u001b[1;32m    963\u001b[0m     \u001b[0;32mif\u001b[0m \u001b[0mfinal_fetches\u001b[0m \u001b[0;32mor\u001b[0m \u001b[0mfinal_targets\u001b[0m\u001b[0;34m:\u001b[0m\u001b[0;34m\u001b[0m\u001b[0m\n\u001b[1;32m    964\u001b[0m       results = self._do_run(handle, final_targets, final_fetches,\n\u001b[0;32m--> 965\u001b[0;31m                              feed_dict_string, options, run_metadata)\n\u001b[0m\u001b[1;32m    966\u001b[0m     \u001b[0;32melse\u001b[0m\u001b[0;34m:\u001b[0m\u001b[0;34m\u001b[0m\u001b[0m\n\u001b[1;32m    967\u001b[0m       \u001b[0mresults\u001b[0m \u001b[0;34m=\u001b[0m \u001b[0;34m[\u001b[0m\u001b[0;34m]\u001b[0m\u001b[0;34m\u001b[0m\u001b[0m\n",
      "\u001b[0;32m/Users/keping/anaconda3/lib/python3.6/site-packages/tensorflow/python/client/session.py\u001b[0m in \u001b[0;36m_do_run\u001b[0;34m(self, handle, target_list, fetch_list, feed_dict, options, run_metadata)\u001b[0m\n\u001b[1;32m   1013\u001b[0m     \u001b[0;32mif\u001b[0m \u001b[0mhandle\u001b[0m \u001b[0;32mis\u001b[0m \u001b[0;32mNone\u001b[0m\u001b[0;34m:\u001b[0m\u001b[0;34m\u001b[0m\u001b[0m\n\u001b[1;32m   1014\u001b[0m       return self._do_call(_run_fn, self._session, feed_dict, fetch_list,\n\u001b[0;32m-> 1015\u001b[0;31m                            target_list, options, run_metadata)\n\u001b[0m\u001b[1;32m   1016\u001b[0m     \u001b[0;32melse\u001b[0m\u001b[0;34m:\u001b[0m\u001b[0;34m\u001b[0m\u001b[0m\n\u001b[1;32m   1017\u001b[0m       return self._do_call(_prun_fn, self._session, handle, feed_dict,\n",
      "\u001b[0;32m/Users/keping/anaconda3/lib/python3.6/site-packages/tensorflow/python/client/session.py\u001b[0m in \u001b[0;36m_do_call\u001b[0;34m(self, fn, *args)\u001b[0m\n\u001b[1;32m   1020\u001b[0m   \u001b[0;32mdef\u001b[0m \u001b[0m_do_call\u001b[0m\u001b[0;34m(\u001b[0m\u001b[0mself\u001b[0m\u001b[0;34m,\u001b[0m \u001b[0mfn\u001b[0m\u001b[0;34m,\u001b[0m \u001b[0;34m*\u001b[0m\u001b[0margs\u001b[0m\u001b[0;34m)\u001b[0m\u001b[0;34m:\u001b[0m\u001b[0;34m\u001b[0m\u001b[0m\n\u001b[1;32m   1021\u001b[0m     \u001b[0;32mtry\u001b[0m\u001b[0;34m:\u001b[0m\u001b[0;34m\u001b[0m\u001b[0m\n\u001b[0;32m-> 1022\u001b[0;31m       \u001b[0;32mreturn\u001b[0m \u001b[0mfn\u001b[0m\u001b[0;34m(\u001b[0m\u001b[0;34m*\u001b[0m\u001b[0margs\u001b[0m\u001b[0;34m)\u001b[0m\u001b[0;34m\u001b[0m\u001b[0m\n\u001b[0m\u001b[1;32m   1023\u001b[0m     \u001b[0;32mexcept\u001b[0m \u001b[0merrors\u001b[0m\u001b[0;34m.\u001b[0m\u001b[0mOpError\u001b[0m \u001b[0;32mas\u001b[0m \u001b[0me\u001b[0m\u001b[0;34m:\u001b[0m\u001b[0;34m\u001b[0m\u001b[0m\n\u001b[1;32m   1024\u001b[0m       \u001b[0mmessage\u001b[0m \u001b[0;34m=\u001b[0m \u001b[0mcompat\u001b[0m\u001b[0;34m.\u001b[0m\u001b[0mas_text\u001b[0m\u001b[0;34m(\u001b[0m\u001b[0me\u001b[0m\u001b[0;34m.\u001b[0m\u001b[0mmessage\u001b[0m\u001b[0;34m)\u001b[0m\u001b[0;34m\u001b[0m\u001b[0m\n",
      "\u001b[0;32m/Users/keping/anaconda3/lib/python3.6/site-packages/tensorflow/python/client/session.py\u001b[0m in \u001b[0;36m_run_fn\u001b[0;34m(session, feed_dict, fetch_list, target_list, options, run_metadata)\u001b[0m\n\u001b[1;32m   1002\u001b[0m         return tf_session.TF_Run(session, options,\n\u001b[1;32m   1003\u001b[0m                                  \u001b[0mfeed_dict\u001b[0m\u001b[0;34m,\u001b[0m \u001b[0mfetch_list\u001b[0m\u001b[0;34m,\u001b[0m \u001b[0mtarget_list\u001b[0m\u001b[0;34m,\u001b[0m\u001b[0;34m\u001b[0m\u001b[0m\n\u001b[0;32m-> 1004\u001b[0;31m                                  status, run_metadata)\n\u001b[0m\u001b[1;32m   1005\u001b[0m \u001b[0;34m\u001b[0m\u001b[0m\n\u001b[1;32m   1006\u001b[0m     \u001b[0;32mdef\u001b[0m \u001b[0m_prun_fn\u001b[0m\u001b[0;34m(\u001b[0m\u001b[0msession\u001b[0m\u001b[0;34m,\u001b[0m \u001b[0mhandle\u001b[0m\u001b[0;34m,\u001b[0m \u001b[0mfeed_dict\u001b[0m\u001b[0;34m,\u001b[0m \u001b[0mfetch_list\u001b[0m\u001b[0;34m)\u001b[0m\u001b[0;34m:\u001b[0m\u001b[0;34m\u001b[0m\u001b[0m\n",
      "\u001b[0;31mKeyboardInterrupt\u001b[0m: "
     ]
    }
   ],
   "source": [
    "model_number += 1\n",
    "with tf.Session(graph=g) as sess:\n",
    "  print(\"model{}\".format(model_number))\n",
    "  writer_graph = tf.summary.FileWriter('./graphs/nn/model{}'.format(model_number))\n",
    "  writer_graph.add_graph(sess.graph)\n",
    "  writer_graph.close()\n",
    "  writer_trn = tf.summary.FileWriter('./graphs/nn/model{}/trn'.format(model_number))\n",
    "  writer_val = tf.summary.FileWriter('./graphs/nn/model{}/val'.format(model_number))\n",
    "  batch_size = 64\n",
    "  \n",
    "  sess.run(init_op)\n",
    "  \n",
    "  for i in range(20000):\n",
    "    _, loss_trn, rmse_trn, summary = sess.run([train_op, loss, rmse, merged], feed_dict=trn_dict(batch_size))\n",
    "    writer_trn.add_summary(summary, global_step.eval())\n",
    "    rmse_val, summary = sess.run([rmse, merged], feed_dict=val_dict())\n",
    "    writer_val.add_summary(summary, global_step.eval())\n",
    "    if i != 0 and i % 500 == 0:\n",
    "      print(\"({}) training loss: {:.6f}\".format(i, loss_trn))\n",
    "      print(\"rmse_trn: {:.4f}, rmse_val: {:.4f}\".format(rmse_trn, rmse_val))\n",
    "    \n",
    "  # close writers\n",
    "  writer_graph.close()\n",
    "  writer_trn.close()\n",
    "  writer_val.close()"
   ]
  },
  {
   "cell_type": "code",
   "execution_count": null,
   "metadata": {
    "collapsed": true
   },
   "outputs": [],
   "source": []
  }
 ],
 "metadata": {
  "kernelspec": {
   "display_name": "Python 3",
   "language": "python",
   "name": "python3"
  },
  "language_info": {
   "codemirror_mode": {
    "name": "ipython",
    "version": 3
   },
   "file_extension": ".py",
   "mimetype": "text/x-python",
   "name": "python",
   "nbconvert_exporter": "python",
   "pygments_lexer": "ipython3",
   "version": "3.6.0"
  }
 },
 "nbformat": 4,
 "nbformat_minor": 2
}
